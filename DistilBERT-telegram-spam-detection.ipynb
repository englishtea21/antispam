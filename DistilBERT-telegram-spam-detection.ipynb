{
 "cells": [
  {
   "cell_type": "markdown",
   "id": "9d7f44f5",
   "metadata": {
    "papermill": {
     "duration": 0.019743,
     "end_time": "2024-08-18T18:53:09.052299",
     "exception": false,
     "start_time": "2024-08-18T18:53:09.032556",
     "status": "completed"
    },
    "tags": []
   },
   "source": [
    "# Spam detection"
   ]
  },
  {
   "cell_type": "markdown",
   "id": "35756c07",
   "metadata": {
    "papermill": {
     "duration": 0.019949,
     "end_time": "2024-08-18T18:53:09.091589",
     "exception": false,
     "start_time": "2024-08-18T18:53:09.071640",
     "status": "completed"
    },
    "tags": []
   },
   "source": [
    "Here I wil try several aproaches for fast and accurate with high f1-score spam detection"
   ]
  },
  {
   "cell_type": "code",
   "execution_count": 1,
   "id": "59166f45",
   "metadata": {
    "execution": {
     "iopub.execute_input": "2024-08-18T18:53:09.131193Z",
     "iopub.status.busy": "2024-08-18T18:53:09.130878Z",
     "iopub.status.idle": "2024-08-18T18:53:15.569486Z",
     "shell.execute_reply": "2024-08-18T18:53:15.568623Z"
    },
    "papermill": {
     "duration": 6.460991,
     "end_time": "2024-08-18T18:53:15.571785",
     "exception": false,
     "start_time": "2024-08-18T18:53:09.110794",
     "status": "completed"
    },
    "tags": []
   },
   "outputs": [],
   "source": [
    "import warnings\n",
    "warnings.filterwarnings('ignore')\n",
    "\n",
    "import matplotlib.pyplot as plt\n",
    "%matplotlib inline\n",
    "\n",
    "import numpy as np\n",
    "\n",
    "import pandas as pd\n",
    "\n",
    "from sklearn.model_selection import train_test_split\n",
    "\n",
    "import torch\n",
    "from torch import nn\n",
    "from torch.nn import functional as F"
   ]
  },
  {
   "cell_type": "code",
   "execution_count": 2,
   "id": "da6aa99d",
   "metadata": {
    "execution": {
     "iopub.execute_input": "2024-08-18T18:53:15.612384Z",
     "iopub.status.busy": "2024-08-18T18:53:15.611929Z",
     "iopub.status.idle": "2024-08-18T18:53:16.717033Z",
     "shell.execute_reply": "2024-08-18T18:53:16.716065Z"
    },
    "papermill": {
     "duration": 1.127878,
     "end_time": "2024-08-18T18:53:16.719362",
     "exception": false,
     "start_time": "2024-08-18T18:53:15.591484",
     "status": "completed"
    },
    "tags": []
   },
   "outputs": [],
   "source": [
    "from datasets import load_dataset\n",
    "\n",
    "# ru_spam_dataset_v6 = load_dataset(\"RUSpam/spam_dataset_v6\")\n",
    "\n",
    "# en_telegram_spam_dataset = load_dataset(\"thehamkercat/telegram-spam-ham\")\n",
    "\n",
    "# en_sms_spam_dataset = load_dataset(\"ucirvine/sms_spam\")\n",
    "\n",
    "# en_spam_dataset = load_dataset(\"Deysi/spam-detection-dataset\")\n"
   ]
  },
  {
   "cell_type": "markdown",
   "id": "b75ae632",
   "metadata": {
    "papermill": {
     "duration": 0.019597,
     "end_time": "2024-08-18T18:53:16.758975",
     "exception": false,
     "start_time": "2024-08-18T18:53:16.739378",
     "status": "completed"
    },
    "tags": []
   },
   "source": [
    "# Preprocessing"
   ]
  },
  {
   "cell_type": "markdown",
   "id": "fbae007d",
   "metadata": {
    "papermill": {
     "duration": 0.02757,
     "end_time": "2024-08-18T18:53:16.806161",
     "exception": false,
     "start_time": "2024-08-18T18:53:16.778591",
     "status": "completed"
    },
    "tags": []
   },
   "source": [
    "Let's merge datasets, then filter for duplicates, get statistical analysis"
   ]
  },
  {
   "cell_type": "markdown",
   "id": "46f5056e",
   "metadata": {
    "papermill": {
     "duration": 0.019394,
     "end_time": "2024-08-18T18:53:16.845080",
     "exception": false,
     "start_time": "2024-08-18T18:53:16.825686",
     "status": "completed"
    },
    "tags": []
   },
   "source": [
    "## Merging and filtering"
   ]
  },
  {
   "cell_type": "code",
   "execution_count": 3,
   "id": "616d80e0",
   "metadata": {
    "execution": {
     "iopub.execute_input": "2024-08-18T18:53:16.885332Z",
     "iopub.status.busy": "2024-08-18T18:53:16.884809Z",
     "iopub.status.idle": "2024-08-18T18:53:16.888964Z",
     "shell.execute_reply": "2024-08-18T18:53:16.888047Z"
    },
    "papermill": {
     "duration": 0.02658,
     "end_time": "2024-08-18T18:53:16.891077",
     "exception": false,
     "start_time": "2024-08-18T18:53:16.864497",
     "status": "completed"
    },
    "tags": []
   },
   "outputs": [],
   "source": [
    "# ru_spam_dataset_v6"
   ]
  },
  {
   "cell_type": "code",
   "execution_count": 4,
   "id": "1f69e4fb",
   "metadata": {
    "execution": {
     "iopub.execute_input": "2024-08-18T18:53:16.930337Z",
     "iopub.status.busy": "2024-08-18T18:53:16.930062Z",
     "iopub.status.idle": "2024-08-18T18:53:16.933622Z",
     "shell.execute_reply": "2024-08-18T18:53:16.932800Z"
    },
    "papermill": {
     "duration": 0.02522,
     "end_time": "2024-08-18T18:53:16.935515",
     "exception": false,
     "start_time": "2024-08-18T18:53:16.910295",
     "status": "completed"
    },
    "tags": []
   },
   "outputs": [],
   "source": [
    "# ru_spam_dataset_v6 = ru_spam_dataset_v6['train'].to_pandas()"
   ]
  },
  {
   "cell_type": "code",
   "execution_count": 5,
   "id": "91101d25",
   "metadata": {
    "execution": {
     "iopub.execute_input": "2024-08-18T18:53:16.974850Z",
     "iopub.status.busy": "2024-08-18T18:53:16.974587Z",
     "iopub.status.idle": "2024-08-18T18:53:16.978194Z",
     "shell.execute_reply": "2024-08-18T18:53:16.977345Z"
    },
    "papermill": {
     "duration": 0.025665,
     "end_time": "2024-08-18T18:53:16.980365",
     "exception": false,
     "start_time": "2024-08-18T18:53:16.954700",
     "status": "completed"
    },
    "tags": []
   },
   "outputs": [],
   "source": [
    "# ru_spam_dataset_v6.head()"
   ]
  },
  {
   "cell_type": "code",
   "execution_count": 6,
   "id": "f8c59db6",
   "metadata": {
    "execution": {
     "iopub.execute_input": "2024-08-18T18:53:17.019634Z",
     "iopub.status.busy": "2024-08-18T18:53:17.019380Z",
     "iopub.status.idle": "2024-08-18T18:53:17.022885Z",
     "shell.execute_reply": "2024-08-18T18:53:17.022059Z"
    },
    "papermill": {
     "duration": 0.025403,
     "end_time": "2024-08-18T18:53:17.024852",
     "exception": false,
     "start_time": "2024-08-18T18:53:16.999449",
     "status": "completed"
    },
    "tags": []
   },
   "outputs": [],
   "source": [
    "# ru_spam_dataset_v6['label'].unique()"
   ]
  },
  {
   "cell_type": "code",
   "execution_count": 7,
   "id": "0157b6c0",
   "metadata": {
    "execution": {
     "iopub.execute_input": "2024-08-18T18:53:17.064635Z",
     "iopub.status.busy": "2024-08-18T18:53:17.064344Z",
     "iopub.status.idle": "2024-08-18T18:53:17.067885Z",
     "shell.execute_reply": "2024-08-18T18:53:17.066998Z"
    },
    "papermill": {
     "duration": 0.025558,
     "end_time": "2024-08-18T18:53:17.069860",
     "exception": false,
     "start_time": "2024-08-18T18:53:17.044302",
     "status": "completed"
    },
    "tags": []
   },
   "outputs": [],
   "source": [
    "# en_telegram_spam_dataset"
   ]
  },
  {
   "cell_type": "code",
   "execution_count": 8,
   "id": "f1d60d46",
   "metadata": {
    "execution": {
     "iopub.execute_input": "2024-08-18T18:53:17.109045Z",
     "iopub.status.busy": "2024-08-18T18:53:17.108747Z",
     "iopub.status.idle": "2024-08-18T18:53:17.112288Z",
     "shell.execute_reply": "2024-08-18T18:53:17.111421Z"
    },
    "papermill": {
     "duration": 0.025267,
     "end_time": "2024-08-18T18:53:17.114119",
     "exception": false,
     "start_time": "2024-08-18T18:53:17.088852",
     "status": "completed"
    },
    "tags": []
   },
   "outputs": [],
   "source": [
    "# en_telegram_spam_dataset = en_telegram_spam_dataset['train'].to_pandas()"
   ]
  },
  {
   "cell_type": "code",
   "execution_count": 9,
   "id": "ba2714eb",
   "metadata": {
    "execution": {
     "iopub.execute_input": "2024-08-18T18:53:17.153544Z",
     "iopub.status.busy": "2024-08-18T18:53:17.153296Z",
     "iopub.status.idle": "2024-08-18T18:53:17.156806Z",
     "shell.execute_reply": "2024-08-18T18:53:17.156026Z"
    },
    "papermill": {
     "duration": 0.02533,
     "end_time": "2024-08-18T18:53:17.158673",
     "exception": false,
     "start_time": "2024-08-18T18:53:17.133343",
     "status": "completed"
    },
    "tags": []
   },
   "outputs": [],
   "source": [
    "# en_telegram_spam_dataset.head()"
   ]
  },
  {
   "cell_type": "code",
   "execution_count": 10,
   "id": "5058f44d",
   "metadata": {
    "execution": {
     "iopub.execute_input": "2024-08-18T18:53:17.198365Z",
     "iopub.status.busy": "2024-08-18T18:53:17.198079Z",
     "iopub.status.idle": "2024-08-18T18:53:17.201540Z",
     "shell.execute_reply": "2024-08-18T18:53:17.200709Z"
    },
    "papermill": {
     "duration": 0.025089,
     "end_time": "2024-08-18T18:53:17.203353",
     "exception": false,
     "start_time": "2024-08-18T18:53:17.178264",
     "status": "completed"
    },
    "tags": []
   },
   "outputs": [],
   "source": [
    "# en_telegram_spam_dataset['text_type'].unique()"
   ]
  },
  {
   "cell_type": "code",
   "execution_count": 11,
   "id": "4d431c0b",
   "metadata": {
    "execution": {
     "iopub.execute_input": "2024-08-18T18:53:17.244351Z",
     "iopub.status.busy": "2024-08-18T18:53:17.243991Z",
     "iopub.status.idle": "2024-08-18T18:53:17.247720Z",
     "shell.execute_reply": "2024-08-18T18:53:17.246864Z"
    },
    "papermill": {
     "duration": 0.027143,
     "end_time": "2024-08-18T18:53:17.249687",
     "exception": false,
     "start_time": "2024-08-18T18:53:17.222544",
     "status": "completed"
    },
    "tags": []
   },
   "outputs": [],
   "source": [
    "# en_sms_spam_dataset"
   ]
  },
  {
   "cell_type": "code",
   "execution_count": 12,
   "id": "5904790f",
   "metadata": {
    "execution": {
     "iopub.execute_input": "2024-08-18T18:53:17.289564Z",
     "iopub.status.busy": "2024-08-18T18:53:17.289280Z",
     "iopub.status.idle": "2024-08-18T18:53:17.292850Z",
     "shell.execute_reply": "2024-08-18T18:53:17.292019Z"
    },
    "papermill": {
     "duration": 0.025712,
     "end_time": "2024-08-18T18:53:17.294679",
     "exception": false,
     "start_time": "2024-08-18T18:53:17.268967",
     "status": "completed"
    },
    "tags": []
   },
   "outputs": [],
   "source": [
    "# en_sms_spam_dataset = en_sms_spam_dataset['train'].to_pandas()"
   ]
  },
  {
   "cell_type": "code",
   "execution_count": 13,
   "id": "eb2089fa",
   "metadata": {
    "execution": {
     "iopub.execute_input": "2024-08-18T18:53:17.334395Z",
     "iopub.status.busy": "2024-08-18T18:53:17.334134Z",
     "iopub.status.idle": "2024-08-18T18:53:17.337810Z",
     "shell.execute_reply": "2024-08-18T18:53:17.336937Z"
    },
    "papermill": {
     "duration": 0.025953,
     "end_time": "2024-08-18T18:53:17.339712",
     "exception": false,
     "start_time": "2024-08-18T18:53:17.313759",
     "status": "completed"
    },
    "tags": []
   },
   "outputs": [],
   "source": [
    "# en_sms_spam_dataset.head()"
   ]
  },
  {
   "cell_type": "code",
   "execution_count": 14,
   "id": "47986e91",
   "metadata": {
    "execution": {
     "iopub.execute_input": "2024-08-18T18:53:17.420870Z",
     "iopub.status.busy": "2024-08-18T18:53:17.420555Z",
     "iopub.status.idle": "2024-08-18T18:53:17.424530Z",
     "shell.execute_reply": "2024-08-18T18:53:17.423573Z"
    },
    "papermill": {
     "duration": 0.026483,
     "end_time": "2024-08-18T18:53:17.426453",
     "exception": false,
     "start_time": "2024-08-18T18:53:17.399970",
     "status": "completed"
    },
    "tags": []
   },
   "outputs": [],
   "source": [
    "# en_sms_spam_dataset['label'].unique()"
   ]
  },
  {
   "cell_type": "code",
   "execution_count": 15,
   "id": "670ac584",
   "metadata": {
    "execution": {
     "iopub.execute_input": "2024-08-18T18:53:17.467499Z",
     "iopub.status.busy": "2024-08-18T18:53:17.466911Z",
     "iopub.status.idle": "2024-08-18T18:53:17.470794Z",
     "shell.execute_reply": "2024-08-18T18:53:17.469883Z"
    },
    "papermill": {
     "duration": 0.026365,
     "end_time": "2024-08-18T18:53:17.472824",
     "exception": false,
     "start_time": "2024-08-18T18:53:17.446459",
     "status": "completed"
    },
    "tags": []
   },
   "outputs": [],
   "source": [
    "# en_spam_dataset"
   ]
  },
  {
   "cell_type": "code",
   "execution_count": 16,
   "id": "04012814",
   "metadata": {
    "execution": {
     "iopub.execute_input": "2024-08-18T18:53:17.513142Z",
     "iopub.status.busy": "2024-08-18T18:53:17.512849Z",
     "iopub.status.idle": "2024-08-18T18:53:17.516603Z",
     "shell.execute_reply": "2024-08-18T18:53:17.515775Z"
    },
    "papermill": {
     "duration": 0.026352,
     "end_time": "2024-08-18T18:53:17.518550",
     "exception": false,
     "start_time": "2024-08-18T18:53:17.492198",
     "status": "completed"
    },
    "tags": []
   },
   "outputs": [],
   "source": [
    "# en_spam_dataset = pd.concat([en_spam_dataset['train'].to_pandas(), en_spam_dataset['test'].to_pandas()], ignore_index=True)"
   ]
  },
  {
   "cell_type": "code",
   "execution_count": 17,
   "id": "2c9f5349",
   "metadata": {
    "execution": {
     "iopub.execute_input": "2024-08-18T18:53:17.559965Z",
     "iopub.status.busy": "2024-08-18T18:53:17.559716Z",
     "iopub.status.idle": "2024-08-18T18:53:17.563590Z",
     "shell.execute_reply": "2024-08-18T18:53:17.562686Z"
    },
    "papermill": {
     "duration": 0.026349,
     "end_time": "2024-08-18T18:53:17.565669",
     "exception": false,
     "start_time": "2024-08-18T18:53:17.539320",
     "status": "completed"
    },
    "tags": []
   },
   "outputs": [],
   "source": [
    "# en_spam_dataset.head()"
   ]
  },
  {
   "cell_type": "code",
   "execution_count": 18,
   "id": "07176f69",
   "metadata": {
    "execution": {
     "iopub.execute_input": "2024-08-18T18:53:17.605762Z",
     "iopub.status.busy": "2024-08-18T18:53:17.605509Z",
     "iopub.status.idle": "2024-08-18T18:53:17.609100Z",
     "shell.execute_reply": "2024-08-18T18:53:17.608280Z"
    },
    "papermill": {
     "duration": 0.025807,
     "end_time": "2024-08-18T18:53:17.611003",
     "exception": false,
     "start_time": "2024-08-18T18:53:17.585196",
     "status": "completed"
    },
    "tags": []
   },
   "outputs": [],
   "source": [
    "# en_spam_dataset['label'].unique()"
   ]
  },
  {
   "cell_type": "markdown",
   "id": "30f48432",
   "metadata": {
    "papermill": {
     "duration": 0.019254,
     "end_time": "2024-08-18T18:53:17.649542",
     "exception": false,
     "start_time": "2024-08-18T18:53:17.630288",
     "status": "completed"
    },
    "tags": []
   },
   "source": [
    "Now let's rename columns of all datasets to one variant and merge"
   ]
  },
  {
   "cell_type": "code",
   "execution_count": 19,
   "id": "e131c7df",
   "metadata": {
    "execution": {
     "iopub.execute_input": "2024-08-18T18:53:17.689122Z",
     "iopub.status.busy": "2024-08-18T18:53:17.688816Z",
     "iopub.status.idle": "2024-08-18T18:53:17.692507Z",
     "shell.execute_reply": "2024-08-18T18:53:17.691651Z"
    },
    "papermill": {
     "duration": 0.025621,
     "end_time": "2024-08-18T18:53:17.694396",
     "exception": false,
     "start_time": "2024-08-18T18:53:17.668775",
     "status": "completed"
    },
    "tags": []
   },
   "outputs": [],
   "source": [
    "# class SPAM_DATASET_INFO:\n",
    "#     def __init__(self):\n",
    "#         self.columns = {'message_column':'message', 'label_column': 'is_spam'}"
   ]
  },
  {
   "cell_type": "markdown",
   "id": "398a0d99",
   "metadata": {
    "papermill": {
     "duration": 0.019381,
     "end_time": "2024-08-18T18:53:17.733075",
     "exception": false,
     "start_time": "2024-08-18T18:53:17.713694",
     "status": "completed"
    },
    "tags": []
   },
   "source": [
    "Also let's encode label: 1 - spam, 0 - not"
   ]
  },
  {
   "cell_type": "code",
   "execution_count": 20,
   "id": "310f6cd0",
   "metadata": {
    "execution": {
     "iopub.execute_input": "2024-08-18T18:53:17.772457Z",
     "iopub.status.busy": "2024-08-18T18:53:17.772173Z",
     "iopub.status.idle": "2024-08-18T18:53:17.775884Z",
     "shell.execute_reply": "2024-08-18T18:53:17.775056Z"
    },
    "papermill": {
     "duration": 0.025367,
     "end_time": "2024-08-18T18:53:17.777692",
     "exception": false,
     "start_time": "2024-08-18T18:53:17.752325",
     "status": "completed"
    },
    "tags": []
   },
   "outputs": [],
   "source": [
    "# SPAM_DATASET_INFO_ = SPAM_DATASET_INFO()"
   ]
  },
  {
   "cell_type": "code",
   "execution_count": 21,
   "id": "8bad610c",
   "metadata": {
    "execution": {
     "iopub.execute_input": "2024-08-18T18:53:17.817550Z",
     "iopub.status.busy": "2024-08-18T18:53:17.817252Z",
     "iopub.status.idle": "2024-08-18T18:53:17.820880Z",
     "shell.execute_reply": "2024-08-18T18:53:17.820061Z"
    },
    "papermill": {
     "duration": 0.025707,
     "end_time": "2024-08-18T18:53:17.822702",
     "exception": false,
     "start_time": "2024-08-18T18:53:17.796995",
     "status": "completed"
    },
    "tags": []
   },
   "outputs": [],
   "source": [
    "# ru_spam_dataset_v6.rename(columns={'message': SPAM_DATASET_INFO_.columns['message_column'], 'label': SPAM_DATASET_INFO_.columns['label_column']}, inplace=True)"
   ]
  },
  {
   "cell_type": "code",
   "execution_count": 22,
   "id": "2f103e79",
   "metadata": {
    "execution": {
     "iopub.execute_input": "2024-08-18T18:53:17.862342Z",
     "iopub.status.busy": "2024-08-18T18:53:17.862058Z",
     "iopub.status.idle": "2024-08-18T18:53:17.865867Z",
     "shell.execute_reply": "2024-08-18T18:53:17.865065Z"
    },
    "papermill": {
     "duration": 0.02572,
     "end_time": "2024-08-18T18:53:17.867659",
     "exception": false,
     "start_time": "2024-08-18T18:53:17.841939",
     "status": "completed"
    },
    "tags": []
   },
   "outputs": [],
   "source": [
    "# ru_spam_dataset_v6['is_spam'].unique()"
   ]
  },
  {
   "cell_type": "code",
   "execution_count": 23,
   "id": "fdce2e9e",
   "metadata": {
    "execution": {
     "iopub.execute_input": "2024-08-18T18:53:17.907210Z",
     "iopub.status.busy": "2024-08-18T18:53:17.906920Z",
     "iopub.status.idle": "2024-08-18T18:53:17.910586Z",
     "shell.execute_reply": "2024-08-18T18:53:17.909796Z"
    },
    "papermill": {
     "duration": 0.025608,
     "end_time": "2024-08-18T18:53:17.912399",
     "exception": false,
     "start_time": "2024-08-18T18:53:17.886791",
     "status": "completed"
    },
    "tags": []
   },
   "outputs": [],
   "source": [
    "# en_telegram_spam_dataset.rename(columns={'text': SPAM_DATASET_INFO_.columns['message_column'], 'text_type': SPAM_DATASET_INFO_.columns['label_column']}, inplace=True)"
   ]
  },
  {
   "cell_type": "code",
   "execution_count": 24,
   "id": "5c543a31",
   "metadata": {
    "execution": {
     "iopub.execute_input": "2024-08-18T18:53:17.951666Z",
     "iopub.status.busy": "2024-08-18T18:53:17.951431Z",
     "iopub.status.idle": "2024-08-18T18:53:17.954983Z",
     "shell.execute_reply": "2024-08-18T18:53:17.954241Z"
    },
    "papermill": {
     "duration": 0.025231,
     "end_time": "2024-08-18T18:53:17.956890",
     "exception": false,
     "start_time": "2024-08-18T18:53:17.931659",
     "status": "completed"
    },
    "tags": []
   },
   "outputs": [],
   "source": [
    "# en_telegram_spam_dataset.head()"
   ]
  },
  {
   "cell_type": "code",
   "execution_count": 25,
   "id": "c8f08f5b",
   "metadata": {
    "execution": {
     "iopub.execute_input": "2024-08-18T18:53:17.996392Z",
     "iopub.status.busy": "2024-08-18T18:53:17.996148Z",
     "iopub.status.idle": "2024-08-18T18:53:17.999633Z",
     "shell.execute_reply": "2024-08-18T18:53:17.998839Z"
    },
    "papermill": {
     "duration": 0.025522,
     "end_time": "2024-08-18T18:53:18.001460",
     "exception": false,
     "start_time": "2024-08-18T18:53:17.975938",
     "status": "completed"
    },
    "tags": []
   },
   "outputs": [],
   "source": [
    "# en_telegram_spam_dataset['is_spam'].unique()"
   ]
  },
  {
   "cell_type": "code",
   "execution_count": 26,
   "id": "1c47e2af",
   "metadata": {
    "execution": {
     "iopub.execute_input": "2024-08-18T18:53:18.040572Z",
     "iopub.status.busy": "2024-08-18T18:53:18.040332Z",
     "iopub.status.idle": "2024-08-18T18:53:18.043846Z",
     "shell.execute_reply": "2024-08-18T18:53:18.043050Z"
    },
    "papermill": {
     "duration": 0.025278,
     "end_time": "2024-08-18T18:53:18.045759",
     "exception": false,
     "start_time": "2024-08-18T18:53:18.020481",
     "status": "completed"
    },
    "tags": []
   },
   "outputs": [],
   "source": [
    "# en_telegram_spam_dataset['is_spam'] = en_telegram_spam_dataset[SPAM_DATASET_INFO_.columns['label_column']].apply(lambda x: 0 if x=='spam' else 1)"
   ]
  },
  {
   "cell_type": "code",
   "execution_count": 27,
   "id": "345a4178",
   "metadata": {
    "execution": {
     "iopub.execute_input": "2024-08-18T18:53:18.084696Z",
     "iopub.status.busy": "2024-08-18T18:53:18.084452Z",
     "iopub.status.idle": "2024-08-18T18:53:18.087852Z",
     "shell.execute_reply": "2024-08-18T18:53:18.087049Z"
    },
    "papermill": {
     "duration": 0.025084,
     "end_time": "2024-08-18T18:53:18.089779",
     "exception": false,
     "start_time": "2024-08-18T18:53:18.064695",
     "status": "completed"
    },
    "tags": []
   },
   "outputs": [],
   "source": [
    "# en_telegram_spam_dataset['is_spam'].unique()"
   ]
  },
  {
   "cell_type": "code",
   "execution_count": 28,
   "id": "2cc39c61",
   "metadata": {
    "execution": {
     "iopub.execute_input": "2024-08-18T18:53:18.129817Z",
     "iopub.status.busy": "2024-08-18T18:53:18.129582Z",
     "iopub.status.idle": "2024-08-18T18:53:18.133091Z",
     "shell.execute_reply": "2024-08-18T18:53:18.132294Z"
    },
    "papermill": {
     "duration": 0.025461,
     "end_time": "2024-08-18T18:53:18.134944",
     "exception": false,
     "start_time": "2024-08-18T18:53:18.109483",
     "status": "completed"
    },
    "tags": []
   },
   "outputs": [],
   "source": [
    "# en_sms_spam_dataset.head()"
   ]
  },
  {
   "cell_type": "code",
   "execution_count": 29,
   "id": "c0258e73",
   "metadata": {
    "execution": {
     "iopub.execute_input": "2024-08-18T18:53:18.174262Z",
     "iopub.status.busy": "2024-08-18T18:53:18.173942Z",
     "iopub.status.idle": "2024-08-18T18:53:18.177628Z",
     "shell.execute_reply": "2024-08-18T18:53:18.176804Z"
    },
    "papermill": {
     "duration": 0.025485,
     "end_time": "2024-08-18T18:53:18.179546",
     "exception": false,
     "start_time": "2024-08-18T18:53:18.154061",
     "status": "completed"
    },
    "tags": []
   },
   "outputs": [],
   "source": [
    "# en_sms_spam_dataset.rename(columns={'sms': SPAM_DATASET_INFO_.columns['message_column'], 'label': SPAM_DATASET_INFO_.columns['label_column']}, inplace=True)"
   ]
  },
  {
   "cell_type": "code",
   "execution_count": 30,
   "id": "7b20a405",
   "metadata": {
    "execution": {
     "iopub.execute_input": "2024-08-18T18:53:18.219754Z",
     "iopub.status.busy": "2024-08-18T18:53:18.219451Z",
     "iopub.status.idle": "2024-08-18T18:53:18.223202Z",
     "shell.execute_reply": "2024-08-18T18:53:18.222422Z"
    },
    "papermill": {
     "duration": 0.02607,
     "end_time": "2024-08-18T18:53:18.225142",
     "exception": false,
     "start_time": "2024-08-18T18:53:18.199072",
     "status": "completed"
    },
    "tags": []
   },
   "outputs": [],
   "source": [
    "# en_sms_spam_dataset['is_spam'].unique()"
   ]
  },
  {
   "cell_type": "code",
   "execution_count": 31,
   "id": "482bbd25",
   "metadata": {
    "execution": {
     "iopub.execute_input": "2024-08-18T18:53:18.264743Z",
     "iopub.status.busy": "2024-08-18T18:53:18.264451Z",
     "iopub.status.idle": "2024-08-18T18:53:18.268314Z",
     "shell.execute_reply": "2024-08-18T18:53:18.267449Z"
    },
    "papermill": {
     "duration": 0.025757,
     "end_time": "2024-08-18T18:53:18.270117",
     "exception": false,
     "start_time": "2024-08-18T18:53:18.244360",
     "status": "completed"
    },
    "tags": []
   },
   "outputs": [],
   "source": [
    "# en_sms_spam_dataset.head()"
   ]
  },
  {
   "cell_type": "code",
   "execution_count": 32,
   "id": "041a1421",
   "metadata": {
    "execution": {
     "iopub.execute_input": "2024-08-18T18:53:18.309529Z",
     "iopub.status.busy": "2024-08-18T18:53:18.309233Z",
     "iopub.status.idle": "2024-08-18T18:53:18.313094Z",
     "shell.execute_reply": "2024-08-18T18:53:18.312222Z"
    },
    "papermill": {
     "duration": 0.025683,
     "end_time": "2024-08-18T18:53:18.314961",
     "exception": false,
     "start_time": "2024-08-18T18:53:18.289278",
     "status": "completed"
    },
    "tags": []
   },
   "outputs": [],
   "source": [
    "# en_spam_dataset.rename(columns={'text': SPAM_DATASET_INFO_.columns['message_column'], 'label': SPAM_DATASET_INFO_.columns['label_column']}, inplace=True)"
   ]
  },
  {
   "cell_type": "code",
   "execution_count": 33,
   "id": "b61fce0c",
   "metadata": {
    "execution": {
     "iopub.execute_input": "2024-08-18T18:53:18.354948Z",
     "iopub.status.busy": "2024-08-18T18:53:18.354623Z",
     "iopub.status.idle": "2024-08-18T18:53:18.358503Z",
     "shell.execute_reply": "2024-08-18T18:53:18.357648Z"
    },
    "papermill": {
     "duration": 0.026051,
     "end_time": "2024-08-18T18:53:18.360414",
     "exception": false,
     "start_time": "2024-08-18T18:53:18.334363",
     "status": "completed"
    },
    "tags": []
   },
   "outputs": [],
   "source": [
    "# en_spam_dataset.head()"
   ]
  },
  {
   "cell_type": "code",
   "execution_count": 34,
   "id": "55f5f218",
   "metadata": {
    "execution": {
     "iopub.execute_input": "2024-08-18T18:53:18.400277Z",
     "iopub.status.busy": "2024-08-18T18:53:18.399976Z",
     "iopub.status.idle": "2024-08-18T18:53:18.403671Z",
     "shell.execute_reply": "2024-08-18T18:53:18.402815Z"
    },
    "papermill": {
     "duration": 0.025772,
     "end_time": "2024-08-18T18:53:18.405669",
     "exception": false,
     "start_time": "2024-08-18T18:53:18.379897",
     "status": "completed"
    },
    "tags": []
   },
   "outputs": [],
   "source": [
    "# en_spam_dataset['is_spam'].unique()"
   ]
  },
  {
   "cell_type": "code",
   "execution_count": 35,
   "id": "06d135bf",
   "metadata": {
    "execution": {
     "iopub.execute_input": "2024-08-18T18:53:18.445068Z",
     "iopub.status.busy": "2024-08-18T18:53:18.444566Z",
     "iopub.status.idle": "2024-08-18T18:53:18.448381Z",
     "shell.execute_reply": "2024-08-18T18:53:18.447532Z"
    },
    "papermill": {
     "duration": 0.025488,
     "end_time": "2024-08-18T18:53:18.450250",
     "exception": false,
     "start_time": "2024-08-18T18:53:18.424762",
     "status": "completed"
    },
    "tags": []
   },
   "outputs": [],
   "source": [
    "# en_spam_dataset['is_spam'] = en_spam_dataset['is_spam'].apply(lambda x: 1 if x=='spam' else 0)"
   ]
  },
  {
   "cell_type": "code",
   "execution_count": 36,
   "id": "b5772ea3",
   "metadata": {
    "execution": {
     "iopub.execute_input": "2024-08-18T18:53:18.489609Z",
     "iopub.status.busy": "2024-08-18T18:53:18.489369Z",
     "iopub.status.idle": "2024-08-18T18:53:18.493074Z",
     "shell.execute_reply": "2024-08-18T18:53:18.492216Z"
    },
    "papermill": {
     "duration": 0.025332,
     "end_time": "2024-08-18T18:53:18.494895",
     "exception": false,
     "start_time": "2024-08-18T18:53:18.469563",
     "status": "completed"
    },
    "tags": []
   },
   "outputs": [],
   "source": [
    "# en_spam_dataset['is_spam'].unique()"
   ]
  },
  {
   "cell_type": "code",
   "execution_count": 37,
   "id": "b5783ee3",
   "metadata": {
    "execution": {
     "iopub.execute_input": "2024-08-18T18:53:18.533942Z",
     "iopub.status.busy": "2024-08-18T18:53:18.533685Z",
     "iopub.status.idle": "2024-08-18T18:53:18.538433Z",
     "shell.execute_reply": "2024-08-18T18:53:18.536829Z"
    },
    "papermill": {
     "duration": 0.02655,
     "end_time": "2024-08-18T18:53:18.540412",
     "exception": false,
     "start_time": "2024-08-18T18:53:18.513862",
     "status": "completed"
    },
    "tags": []
   },
   "outputs": [],
   "source": [
    "# spam_dataset_df = pd.concat([ru_spam_dataset_v6, en_telegram_spam_dataset, en_sms_spam_dataset, en_spam_dataset], ignore_index=True)"
   ]
  },
  {
   "cell_type": "code",
   "execution_count": 38,
   "id": "d47a438f",
   "metadata": {
    "execution": {
     "iopub.execute_input": "2024-08-18T18:53:18.579662Z",
     "iopub.status.busy": "2024-08-18T18:53:18.579397Z",
     "iopub.status.idle": "2024-08-18T18:53:18.582878Z",
     "shell.execute_reply": "2024-08-18T18:53:18.582067Z"
    },
    "papermill": {
     "duration": 0.025215,
     "end_time": "2024-08-18T18:53:18.584810",
     "exception": false,
     "start_time": "2024-08-18T18:53:18.559595",
     "status": "completed"
    },
    "tags": []
   },
   "outputs": [],
   "source": [
    "# spam_dataset_df"
   ]
  },
  {
   "cell_type": "markdown",
   "id": "4e6285b9",
   "metadata": {
    "papermill": {
     "duration": 0.018861,
     "end_time": "2024-08-18T18:53:18.622949",
     "exception": false,
     "start_time": "2024-08-18T18:53:18.604088",
     "status": "completed"
    },
    "tags": []
   },
   "source": [
    "Let's count rows"
   ]
  },
  {
   "cell_type": "code",
   "execution_count": 39,
   "id": "a191bccb",
   "metadata": {
    "execution": {
     "iopub.execute_input": "2024-08-18T18:53:18.662525Z",
     "iopub.status.busy": "2024-08-18T18:53:18.662246Z",
     "iopub.status.idle": "2024-08-18T18:53:18.665949Z",
     "shell.execute_reply": "2024-08-18T18:53:18.665066Z"
    },
    "papermill": {
     "duration": 0.025814,
     "end_time": "2024-08-18T18:53:18.667908",
     "exception": false,
     "start_time": "2024-08-18T18:53:18.642094",
     "status": "completed"
    },
    "tags": []
   },
   "outputs": [],
   "source": [
    "# spam_dataset_df.info()"
   ]
  },
  {
   "cell_type": "code",
   "execution_count": 40,
   "id": "80a0f630",
   "metadata": {
    "execution": {
     "iopub.execute_input": "2024-08-18T18:53:18.706898Z",
     "iopub.status.busy": "2024-08-18T18:53:18.706643Z",
     "iopub.status.idle": "2024-08-18T18:53:18.710114Z",
     "shell.execute_reply": "2024-08-18T18:53:18.709279Z"
    },
    "papermill": {
     "duration": 0.024904,
     "end_time": "2024-08-18T18:53:18.711904",
     "exception": false,
     "start_time": "2024-08-18T18:53:18.687000",
     "status": "completed"
    },
    "tags": []
   },
   "outputs": [],
   "source": [
    "# Drop duplicates based on column 'A'\n",
    "# spam_dataset_df.drop_duplicates(subset=['message']).shape"
   ]
  },
  {
   "cell_type": "code",
   "execution_count": 41,
   "id": "0d5ce609",
   "metadata": {
    "execution": {
     "iopub.execute_input": "2024-08-18T18:53:18.750836Z",
     "iopub.status.busy": "2024-08-18T18:53:18.750568Z",
     "iopub.status.idle": "2024-08-18T18:53:18.754069Z",
     "shell.execute_reply": "2024-08-18T18:53:18.753247Z"
    },
    "papermill": {
     "duration": 0.025038,
     "end_time": "2024-08-18T18:53:18.755970",
     "exception": false,
     "start_time": "2024-08-18T18:53:18.730932",
     "status": "completed"
    },
    "tags": []
   },
   "outputs": [],
   "source": [
    "# spam_dataset_df_filtered = spam_dataset_df.drop_duplicates(subset=['message'])"
   ]
  },
  {
   "cell_type": "code",
   "execution_count": 42,
   "id": "af49e81c",
   "metadata": {
    "execution": {
     "iopub.execute_input": "2024-08-18T18:53:18.795104Z",
     "iopub.status.busy": "2024-08-18T18:53:18.794833Z",
     "iopub.status.idle": "2024-08-18T18:53:18.798411Z",
     "shell.execute_reply": "2024-08-18T18:53:18.797616Z"
    },
    "papermill": {
     "duration": 0.025166,
     "end_time": "2024-08-18T18:53:18.800273",
     "exception": false,
     "start_time": "2024-08-18T18:53:18.775107",
     "status": "completed"
    },
    "tags": []
   },
   "outputs": [],
   "source": [
    "# plt.hist(spam_dataset_df['message'].apply(lambda x: len(x)), bins=30)\n",
    "# plt.title('not tokenized messages length distribution')\n",
    "# plt.yscale('log');"
   ]
  },
  {
   "cell_type": "code",
   "execution_count": 43,
   "id": "1462084c",
   "metadata": {
    "execution": {
     "iopub.execute_input": "2024-08-18T18:53:18.839343Z",
     "iopub.status.busy": "2024-08-18T18:53:18.839091Z",
     "iopub.status.idle": "2024-08-18T18:53:18.842658Z",
     "shell.execute_reply": "2024-08-18T18:53:18.841790Z"
    },
    "papermill": {
     "duration": 0.025214,
     "end_time": "2024-08-18T18:53:18.844525",
     "exception": false,
     "start_time": "2024-08-18T18:53:18.819311",
     "status": "completed"
    },
    "tags": []
   },
   "outputs": [],
   "source": [
    "# TELEGRAM_MAX_MESSAGE_LEN = 4096"
   ]
  },
  {
   "cell_type": "markdown",
   "id": "f8d66dcc",
   "metadata": {
    "papermill": {
     "duration": 0.01895,
     "end_time": "2024-08-18T18:53:18.882422",
     "exception": false,
     "start_time": "2024-08-18T18:53:18.863472",
     "status": "completed"
    },
    "tags": []
   },
   "source": [
    "The target - train efficient spam detector on for telegram, that's why need to cut dataset by messages length"
   ]
  },
  {
   "cell_type": "code",
   "execution_count": 44,
   "id": "72851e4e",
   "metadata": {
    "execution": {
     "iopub.execute_input": "2024-08-18T18:53:18.921824Z",
     "iopub.status.busy": "2024-08-18T18:53:18.921585Z",
     "iopub.status.idle": "2024-08-18T18:53:18.925252Z",
     "shell.execute_reply": "2024-08-18T18:53:18.924342Z"
    },
    "papermill": {
     "duration": 0.025473,
     "end_time": "2024-08-18T18:53:18.927100",
     "exception": false,
     "start_time": "2024-08-18T18:53:18.901627",
     "status": "completed"
    },
    "tags": []
   },
   "outputs": [],
   "source": [
    "# spam_dataset_df[spam_dataset_df['message'].apply(lambda x: len(x)>TELEGRAM_MAX_MESSAGE_LEN)]"
   ]
  },
  {
   "cell_type": "code",
   "execution_count": 45,
   "id": "004137e7",
   "metadata": {
    "execution": {
     "iopub.execute_input": "2024-08-18T18:53:18.966548Z",
     "iopub.status.busy": "2024-08-18T18:53:18.966298Z",
     "iopub.status.idle": "2024-08-18T18:53:18.969879Z",
     "shell.execute_reply": "2024-08-18T18:53:18.969046Z"
    },
    "papermill": {
     "duration": 0.025215,
     "end_time": "2024-08-18T18:53:18.971704",
     "exception": false,
     "start_time": "2024-08-18T18:53:18.946489",
     "status": "completed"
    },
    "tags": []
   },
   "outputs": [],
   "source": [
    "# spam_dataset_df.drop(spam_dataset_df[spam_dataset_df['message'].apply(lambda x: len(x)>TELEGRAM_MAX_MESSAGE_LEN)].index, inplace=True)"
   ]
  },
  {
   "cell_type": "markdown",
   "id": "ec39a670",
   "metadata": {
    "papermill": {
     "duration": 0.019091,
     "end_time": "2024-08-18T18:53:19.009794",
     "exception": false,
     "start_time": "2024-08-18T18:53:18.990703",
     "status": "completed"
    },
    "tags": []
   },
   "source": [
    "Split data on train, test, val"
   ]
  },
  {
   "cell_type": "code",
   "execution_count": 46,
   "id": "24a7508c",
   "metadata": {
    "execution": {
     "iopub.execute_input": "2024-08-18T18:53:19.050268Z",
     "iopub.status.busy": "2024-08-18T18:53:19.049961Z",
     "iopub.status.idle": "2024-08-18T18:53:19.053756Z",
     "shell.execute_reply": "2024-08-18T18:53:19.052949Z"
    },
    "papermill": {
     "duration": 0.02612,
     "end_time": "2024-08-18T18:53:19.055698",
     "exception": false,
     "start_time": "2024-08-18T18:53:19.029578",
     "status": "completed"
    },
    "tags": []
   },
   "outputs": [],
   "source": [
    "# spam_dataset_df[spam_dataset_df['message'].apply(lambda x: len(x)>TELEGRAM_MAX_MESSAGE_LEN)]"
   ]
  },
  {
   "cell_type": "markdown",
   "id": "6f8f8733",
   "metadata": {
    "papermill": {
     "duration": 0.01895,
     "end_time": "2024-08-18T18:53:19.093759",
     "exception": false,
     "start_time": "2024-08-18T18:53:19.074809",
     "status": "completed"
    },
    "tags": []
   },
   "source": [
    "# Let's finetune some models"
   ]
  },
  {
   "cell_type": "code",
   "execution_count": 47,
   "id": "9bd5a8eb",
   "metadata": {
    "execution": {
     "iopub.execute_input": "2024-08-18T18:53:19.133349Z",
     "iopub.status.busy": "2024-08-18T18:53:19.133099Z",
     "iopub.status.idle": "2024-08-18T18:53:32.939022Z",
     "shell.execute_reply": "2024-08-18T18:53:32.938070Z"
    },
    "papermill": {
     "duration": 13.8285,
     "end_time": "2024-08-18T18:53:32.941398",
     "exception": false,
     "start_time": "2024-08-18T18:53:19.112898",
     "status": "completed"
    },
    "tags": []
   },
   "outputs": [
    {
     "name": "stderr",
     "output_type": "stream",
     "text": [
      "2024-08-18 18:53:22.516117: E external/local_xla/xla/stream_executor/cuda/cuda_dnn.cc:9261] Unable to register cuDNN factory: Attempting to register factory for plugin cuDNN when one has already been registered\n",
      "2024-08-18 18:53:22.516214: E external/local_xla/xla/stream_executor/cuda/cuda_fft.cc:607] Unable to register cuFFT factory: Attempting to register factory for plugin cuFFT when one has already been registered\n",
      "2024-08-18 18:53:22.684094: E external/local_xla/xla/stream_executor/cuda/cuda_blas.cc:1515] Unable to register cuBLAS factory: Attempting to register factory for plugin cuBLAS when one has already been registered\n"
     ]
    }
   ],
   "source": [
    "from transformers import DistilBertTokenizer, DistilBertForSequenceClassification, Trainer, TrainingArguments"
   ]
  },
  {
   "cell_type": "markdown",
   "id": "d4a95513",
   "metadata": {
    "papermill": {
     "duration": 0.028401,
     "end_time": "2024-08-18T18:53:32.989587",
     "exception": false,
     "start_time": "2024-08-18T18:53:32.961186",
     "status": "completed"
    },
    "tags": []
   },
   "source": [
    "### Make datasets"
   ]
  },
  {
   "cell_type": "code",
   "execution_count": 48,
   "id": "ad64b3bc",
   "metadata": {
    "execution": {
     "iopub.execute_input": "2024-08-18T18:53:33.029788Z",
     "iopub.status.busy": "2024-08-18T18:53:33.029225Z",
     "iopub.status.idle": "2024-08-18T18:53:33.033405Z",
     "shell.execute_reply": "2024-08-18T18:53:33.032538Z"
    },
    "papermill": {
     "duration": 0.026138,
     "end_time": "2024-08-18T18:53:33.035265",
     "exception": false,
     "start_time": "2024-08-18T18:53:33.009127",
     "status": "completed"
    },
    "tags": []
   },
   "outputs": [],
   "source": [
    "from datasets import Dataset"
   ]
  },
  {
   "cell_type": "code",
   "execution_count": 49,
   "id": "87437203",
   "metadata": {
    "execution": {
     "iopub.execute_input": "2024-08-18T18:53:33.074549Z",
     "iopub.status.busy": "2024-08-18T18:53:33.074301Z",
     "iopub.status.idle": "2024-08-18T18:53:33.077901Z",
     "shell.execute_reply": "2024-08-18T18:53:33.077073Z"
    },
    "papermill": {
     "duration": 0.025433,
     "end_time": "2024-08-18T18:53:33.079817",
     "exception": false,
     "start_time": "2024-08-18T18:53:33.054384",
     "status": "completed"
    },
    "tags": []
   },
   "outputs": [],
   "source": [
    "# spam_dataset_df.rename(columns={'message':'text', 'is_spam': 'labels'}, inplace=True)"
   ]
  },
  {
   "cell_type": "code",
   "execution_count": 50,
   "id": "7018c2f0",
   "metadata": {
    "execution": {
     "iopub.execute_input": "2024-08-18T18:53:33.119305Z",
     "iopub.status.busy": "2024-08-18T18:53:33.118969Z",
     "iopub.status.idle": "2024-08-18T18:53:33.122608Z",
     "shell.execute_reply": "2024-08-18T18:53:33.121755Z"
    },
    "papermill": {
     "duration": 0.025423,
     "end_time": "2024-08-18T18:53:33.124578",
     "exception": false,
     "start_time": "2024-08-18T18:53:33.099155",
     "status": "completed"
    },
    "tags": []
   },
   "outputs": [],
   "source": [
    "# spam_dataset_df.head()"
   ]
  },
  {
   "cell_type": "code",
   "execution_count": 51,
   "id": "7e7e0089",
   "metadata": {
    "execution": {
     "iopub.execute_input": "2024-08-18T18:53:33.164287Z",
     "iopub.status.busy": "2024-08-18T18:53:33.164004Z",
     "iopub.status.idle": "2024-08-18T18:53:33.167779Z",
     "shell.execute_reply": "2024-08-18T18:53:33.166963Z"
    },
    "papermill": {
     "duration": 0.025752,
     "end_time": "2024-08-18T18:53:33.169656",
     "exception": false,
     "start_time": "2024-08-18T18:53:33.143904",
     "status": "completed"
    },
    "tags": []
   },
   "outputs": [],
   "source": [
    "# train_df, temp_df = train_test_split(spam_dataset_df, test_size=0.3, stratify=spam_dataset_df['labels'])\n",
    "# eval_df, test_df = train_test_split(temp_df, test_size=0.5, stratify=temp_df['labels'])\n",
    "\n",
    "# # Преобразование pandas DataFrame в Hugging Face Dataset\n",
    "# train_dataset = Dataset.from_pandas(train_df)\n",
    "# eval_dataset = Dataset.from_pandas(eval_df)\n",
    "# test_dataset = Dataset.from_pandas(test_df)"
   ]
  },
  {
   "cell_type": "code",
   "execution_count": 52,
   "id": "d01bbe68",
   "metadata": {
    "execution": {
     "iopub.execute_input": "2024-08-18T18:53:33.209282Z",
     "iopub.status.busy": "2024-08-18T18:53:33.209031Z",
     "iopub.status.idle": "2024-08-18T18:53:33.212437Z",
     "shell.execute_reply": "2024-08-18T18:53:33.211659Z"
    },
    "papermill": {
     "duration": 0.025444,
     "end_time": "2024-08-18T18:53:33.214242",
     "exception": false,
     "start_time": "2024-08-18T18:53:33.188798",
     "status": "completed"
    },
    "tags": []
   },
   "outputs": [],
   "source": [
    "# # Токенизация данных\n",
    "# tokenizer = DistilBertTokenizer.from_pretrained('distilbert-base-multilingual-cased')"
   ]
  },
  {
   "cell_type": "markdown",
   "id": "2bcbd499",
   "metadata": {
    "papermill": {
     "duration": 0.019102,
     "end_time": "2024-08-18T18:53:33.252401",
     "exception": false,
     "start_time": "2024-08-18T18:53:33.233299",
     "status": "completed"
    },
    "tags": []
   },
   "source": [
    "Let's add more dataset specific tokens to tokenizer"
   ]
  },
  {
   "cell_type": "code",
   "execution_count": 53,
   "id": "3b04ea92",
   "metadata": {
    "execution": {
     "iopub.execute_input": "2024-08-18T18:53:33.291946Z",
     "iopub.status.busy": "2024-08-18T18:53:33.291474Z",
     "iopub.status.idle": "2024-08-18T18:53:33.294953Z",
     "shell.execute_reply": "2024-08-18T18:53:33.294165Z"
    },
    "papermill": {
     "duration": 0.025213,
     "end_time": "2024-08-18T18:53:33.296768",
     "exception": false,
     "start_time": "2024-08-18T18:53:33.271555",
     "status": "completed"
    },
    "tags": []
   },
   "outputs": [],
   "source": [
    "# new_tokens = set(' '.join(spam_dataset_df['text']))"
   ]
  },
  {
   "cell_type": "code",
   "execution_count": 54,
   "id": "1ea900c9",
   "metadata": {
    "execution": {
     "iopub.execute_input": "2024-08-18T18:53:33.336554Z",
     "iopub.status.busy": "2024-08-18T18:53:33.335899Z",
     "iopub.status.idle": "2024-08-18T18:53:33.339431Z",
     "shell.execute_reply": "2024-08-18T18:53:33.338652Z"
    },
    "papermill": {
     "duration": 0.025549,
     "end_time": "2024-08-18T18:53:33.341366",
     "exception": false,
     "start_time": "2024-08-18T18:53:33.315817",
     "status": "completed"
    },
    "tags": []
   },
   "outputs": [],
   "source": [
    "# num_added_tokens = tokenizer.add_tokens(list(new_tokens))"
   ]
  },
  {
   "cell_type": "code",
   "execution_count": 55,
   "id": "0b29f858",
   "metadata": {
    "execution": {
     "iopub.execute_input": "2024-08-18T18:53:33.381260Z",
     "iopub.status.busy": "2024-08-18T18:53:33.381022Z",
     "iopub.status.idle": "2024-08-18T18:53:33.384595Z",
     "shell.execute_reply": "2024-08-18T18:53:33.383748Z"
    },
    "papermill": {
     "duration": 0.025799,
     "end_time": "2024-08-18T18:53:33.386457",
     "exception": false,
     "start_time": "2024-08-18T18:53:33.360658",
     "status": "completed"
    },
    "tags": []
   },
   "outputs": [],
   "source": [
    "# num_added_tokens"
   ]
  },
  {
   "cell_type": "code",
   "execution_count": 56,
   "id": "312c40a6",
   "metadata": {
    "execution": {
     "iopub.execute_input": "2024-08-18T18:53:33.425775Z",
     "iopub.status.busy": "2024-08-18T18:53:33.425478Z",
     "iopub.status.idle": "2024-08-18T18:53:33.429478Z",
     "shell.execute_reply": "2024-08-18T18:53:33.428645Z"
    },
    "papermill": {
     "duration": 0.025866,
     "end_time": "2024-08-18T18:53:33.431527",
     "exception": false,
     "start_time": "2024-08-18T18:53:33.405661",
     "status": "completed"
    },
    "tags": []
   },
   "outputs": [],
   "source": [
    "# def tokenize_function(examples):\n",
    "#     # Токенизация входных данных\n",
    "#     return tokenizer(examples['text'], padding='max_length', truncation=True)\n",
    "\n",
    "# # Применение токенизации к каждому датасету\n",
    "# train_dataset = train_dataset.map(tokenize_function, batched=True)\n",
    "# eval_dataset = eval_dataset.map(tokenize_function, batched=True)\n",
    "# test_dataset = test_dataset.map(tokenize_function, batched=True)"
   ]
  },
  {
   "cell_type": "code",
   "execution_count": 57,
   "id": "ebce05a3",
   "metadata": {
    "execution": {
     "iopub.execute_input": "2024-08-18T18:53:33.471049Z",
     "iopub.status.busy": "2024-08-18T18:53:33.470787Z",
     "iopub.status.idle": "2024-08-18T18:53:33.474256Z",
     "shell.execute_reply": "2024-08-18T18:53:33.473532Z"
    },
    "papermill": {
     "duration": 0.025449,
     "end_time": "2024-08-18T18:53:33.476143",
     "exception": false,
     "start_time": "2024-08-18T18:53:33.450694",
     "status": "completed"
    },
    "tags": []
   },
   "outputs": [],
   "source": [
    "# train_dataset"
   ]
  },
  {
   "cell_type": "code",
   "execution_count": 58,
   "id": "98234dcd",
   "metadata": {
    "execution": {
     "iopub.execute_input": "2024-08-18T18:53:33.515869Z",
     "iopub.status.busy": "2024-08-18T18:53:33.515610Z",
     "iopub.status.idle": "2024-08-18T18:53:33.519019Z",
     "shell.execute_reply": "2024-08-18T18:53:33.518207Z"
    },
    "papermill": {
     "duration": 0.025381,
     "end_time": "2024-08-18T18:53:33.520824",
     "exception": false,
     "start_time": "2024-08-18T18:53:33.495443",
     "status": "completed"
    },
    "tags": []
   },
   "outputs": [],
   "source": [
    "# train_dataset.save_to_disk(\"train_dataset.hf\")\n",
    "# eval_dataset.save_to_disk(\"eval_dataset.hf\")\n",
    "# test_dataset.save_to_disk(\"test_dataset.hf\")"
   ]
  },
  {
   "cell_type": "code",
   "execution_count": 59,
   "id": "2aee3368",
   "metadata": {
    "execution": {
     "iopub.execute_input": "2024-08-18T18:53:33.560406Z",
     "iopub.status.busy": "2024-08-18T18:53:33.560159Z",
     "iopub.status.idle": "2024-08-18T18:53:33.563624Z",
     "shell.execute_reply": "2024-08-18T18:53:33.562769Z"
    },
    "papermill": {
     "duration": 0.025328,
     "end_time": "2024-08-18T18:53:33.565508",
     "exception": false,
     "start_time": "2024-08-18T18:53:33.540180",
     "status": "completed"
    },
    "tags": []
   },
   "outputs": [],
   "source": [
    "# !zip -r train_dataset.zip train_dataset.hf\n",
    "# !zip -r eval_dataset.zip eval_dataset.hf\n",
    "# !zip -r test_dataset.zip test_dataset.hf"
   ]
  },
  {
   "cell_type": "code",
   "execution_count": 60,
   "id": "47d081aa",
   "metadata": {
    "execution": {
     "iopub.execute_input": "2024-08-18T18:53:33.606253Z",
     "iopub.status.busy": "2024-08-18T18:53:33.605969Z",
     "iopub.status.idle": "2024-08-18T18:53:33.609476Z",
     "shell.execute_reply": "2024-08-18T18:53:33.608693Z"
    },
    "papermill": {
     "duration": 0.026699,
     "end_time": "2024-08-18T18:53:33.611361",
     "exception": false,
     "start_time": "2024-08-18T18:53:33.584662",
     "status": "completed"
    },
    "tags": []
   },
   "outputs": [],
   "source": [
    "# tokenizer.save_pretrained('pretrained_tokenizer')"
   ]
  },
  {
   "cell_type": "code",
   "execution_count": 61,
   "id": "3d472ee3",
   "metadata": {
    "execution": {
     "iopub.execute_input": "2024-08-18T18:53:33.650579Z",
     "iopub.status.busy": "2024-08-18T18:53:33.650311Z",
     "iopub.status.idle": "2024-08-18T18:53:33.653722Z",
     "shell.execute_reply": "2024-08-18T18:53:33.652916Z"
    },
    "papermill": {
     "duration": 0.025043,
     "end_time": "2024-08-18T18:53:33.655619",
     "exception": false,
     "start_time": "2024-08-18T18:53:33.630576",
     "status": "completed"
    },
    "tags": []
   },
   "outputs": [],
   "source": [
    "# !zip -r pretrained_tokenizer.zip pretrained_tokenizer"
   ]
  },
  {
   "cell_type": "code",
   "execution_count": 62,
   "id": "f917660c",
   "metadata": {
    "execution": {
     "iopub.execute_input": "2024-08-18T18:53:33.696057Z",
     "iopub.status.busy": "2024-08-18T18:53:33.695771Z",
     "iopub.status.idle": "2024-08-18T18:53:33.699474Z",
     "shell.execute_reply": "2024-08-18T18:53:33.698655Z"
    },
    "papermill": {
     "duration": 0.026202,
     "end_time": "2024-08-18T18:53:33.701407",
     "exception": false,
     "start_time": "2024-08-18T18:53:33.675205",
     "status": "completed"
    },
    "tags": []
   },
   "outputs": [],
   "source": [
    "# from numba import cuda\n",
    "# cuda.select_device(0)\n",
    "# cuda.close()\n",
    "# cuda.select_device(0)"
   ]
  },
  {
   "cell_type": "code",
   "execution_count": 63,
   "id": "a2dc2b5d",
   "metadata": {
    "execution": {
     "iopub.execute_input": "2024-08-18T18:53:33.740813Z",
     "iopub.status.busy": "2024-08-18T18:53:33.740548Z",
     "iopub.status.idle": "2024-08-18T18:53:33.744406Z",
     "shell.execute_reply": "2024-08-18T18:53:33.743684Z"
    },
    "papermill": {
     "duration": 0.025843,
     "end_time": "2024-08-18T18:53:33.746333",
     "exception": false,
     "start_time": "2024-08-18T18:53:33.720490",
     "status": "completed"
    },
    "tags": []
   },
   "outputs": [],
   "source": [
    "from datasets import load_from_disk"
   ]
  },
  {
   "cell_type": "code",
   "execution_count": 64,
   "id": "c86ed3b2",
   "metadata": {
    "execution": {
     "iopub.execute_input": "2024-08-18T18:53:33.785570Z",
     "iopub.status.busy": "2024-08-18T18:53:33.785324Z",
     "iopub.status.idle": "2024-08-18T18:53:34.997005Z",
     "shell.execute_reply": "2024-08-18T18:53:34.996063Z"
    },
    "papermill": {
     "duration": 1.234029,
     "end_time": "2024-08-18T18:53:34.999570",
     "exception": false,
     "start_time": "2024-08-18T18:53:33.765541",
     "status": "completed"
    },
    "tags": []
   },
   "outputs": [],
   "source": [
    "train_dataset = load_from_disk('/kaggle/input/spam-detector-distilbert/train_dataset/train_dataset.hf')\n",
    "eval_dataset = load_from_disk('/kaggle/input/spam-detector-distilbert/eval_dataset/eval_dataset.hf')\n",
    "test_dataset = load_from_disk('/kaggle/input/spam-detector-distilbert/test_dataset/test_dataset.hf')"
   ]
  },
  {
   "cell_type": "code",
   "execution_count": 65,
   "id": "3e0f0d63",
   "metadata": {
    "execution": {
     "iopub.execute_input": "2024-08-18T18:53:35.040494Z",
     "iopub.status.busy": "2024-08-18T18:53:35.040171Z",
     "iopub.status.idle": "2024-08-18T18:53:35.046699Z",
     "shell.execute_reply": "2024-08-18T18:53:35.045879Z"
    },
    "papermill": {
     "duration": 0.029087,
     "end_time": "2024-08-18T18:53:35.048618",
     "exception": false,
     "start_time": "2024-08-18T18:53:35.019531",
     "status": "completed"
    },
    "tags": []
   },
   "outputs": [
    {
     "data": {
      "text/plain": [
       "Dataset({\n",
       "    features: ['text', 'labels', '__index_level_0__', 'input_ids', 'attention_mask'],\n",
       "    num_rows: 495223\n",
       "})"
      ]
     },
     "execution_count": 65,
     "metadata": {},
     "output_type": "execute_result"
    }
   ],
   "source": [
    "train_dataset"
   ]
  },
  {
   "cell_type": "code",
   "execution_count": 66,
   "id": "080bd214",
   "metadata": {
    "execution": {
     "iopub.execute_input": "2024-08-18T18:53:35.088171Z",
     "iopub.status.busy": "2024-08-18T18:53:35.087833Z",
     "iopub.status.idle": "2024-08-18T18:53:35.380906Z",
     "shell.execute_reply": "2024-08-18T18:53:35.379903Z"
    },
    "papermill": {
     "duration": 0.315157,
     "end_time": "2024-08-18T18:53:35.382980",
     "exception": false,
     "start_time": "2024-08-18T18:53:35.067823",
     "status": "completed"
    },
    "tags": []
   },
   "outputs": [
    {
     "name": "stderr",
     "output_type": "stream",
     "text": [
      "Special tokens have been added in the vocabulary, make sure the associated word embeddings are fine-tuned or trained.\n"
     ]
    }
   ],
   "source": [
    "tokenizer = DistilBertTokenizer.from_pretrained('/kaggle/input/spam-detector-distilbert/pretrained_tokenizer/pretrained_tokenizer')"
   ]
  },
  {
   "cell_type": "code",
   "execution_count": 67,
   "id": "fb404ec9",
   "metadata": {
    "execution": {
     "iopub.execute_input": "2024-08-18T18:53:35.424660Z",
     "iopub.status.busy": "2024-08-18T18:53:35.424335Z",
     "iopub.status.idle": "2024-08-18T18:53:35.428005Z",
     "shell.execute_reply": "2024-08-18T18:53:35.427207Z"
    },
    "papermill": {
     "duration": 0.027076,
     "end_time": "2024-08-18T18:53:35.429897",
     "exception": false,
     "start_time": "2024-08-18T18:53:35.402821",
     "status": "completed"
    },
    "tags": []
   },
   "outputs": [],
   "source": [
    "# torch.cuda.empty_cache()"
   ]
  },
  {
   "cell_type": "code",
   "execution_count": 68,
   "id": "dce87b13",
   "metadata": {
    "execution": {
     "iopub.execute_input": "2024-08-18T18:53:35.470126Z",
     "iopub.status.busy": "2024-08-18T18:53:35.469825Z",
     "iopub.status.idle": "2024-08-18T18:53:35.473820Z",
     "shell.execute_reply": "2024-08-18T18:53:35.473050Z"
    },
    "papermill": {
     "duration": 0.026549,
     "end_time": "2024-08-18T18:53:35.475897",
     "exception": false,
     "start_time": "2024-08-18T18:53:35.449348",
     "status": "completed"
    },
    "tags": []
   },
   "outputs": [],
   "source": [
    "import os\n",
    "os.environ['WANDB_DISABLED'] = 'true'"
   ]
  },
  {
   "cell_type": "code",
   "execution_count": 69,
   "id": "8dd41ce9",
   "metadata": {
    "execution": {
     "iopub.execute_input": "2024-08-18T18:53:35.516350Z",
     "iopub.status.busy": "2024-08-18T18:53:35.515632Z",
     "iopub.status.idle": "2024-08-19T03:43:40.658431Z",
     "shell.execute_reply": "2024-08-19T03:43:40.657503Z"
    },
    "papermill": {
     "duration": 31805.165089,
     "end_time": "2024-08-19T03:43:40.660423",
     "exception": false,
     "start_time": "2024-08-18T18:53:35.495334",
     "status": "completed"
    },
    "tags": []
   },
   "outputs": [
    {
     "data": {
      "application/vnd.jupyter.widget-view+json": {
       "model_id": "82bed0bcefed4ff088ebbf9eb0048a84",
       "version_major": 2,
       "version_minor": 0
      },
      "text/plain": [
       "config.json:   0%|          | 0.00/466 [00:00<?, ?B/s]"
      ]
     },
     "metadata": {},
     "output_type": "display_data"
    },
    {
     "data": {
      "application/vnd.jupyter.widget-view+json": {
       "model_id": "9d54bf708eca45c188eeb8c5ed23df8b",
       "version_major": 2,
       "version_minor": 0
      },
      "text/plain": [
       "model.safetensors:   0%|          | 0.00/542M [00:00<?, ?B/s]"
      ]
     },
     "metadata": {},
     "output_type": "display_data"
    },
    {
     "name": "stderr",
     "output_type": "stream",
     "text": [
      "Some weights of DistilBertForSequenceClassification were not initialized from the model checkpoint at distilbert-base-multilingual-cased and are newly initialized: ['classifier.bias', 'classifier.weight', 'pre_classifier.bias', 'pre_classifier.weight']\n",
      "You should probably TRAIN this model on a down-stream task to be able to use it for predictions and inference.\n",
      "Using the `WANDB_DISABLED` environment variable is deprecated and will be removed in v5. Use the --report_to flag to control the integrations used for logging result (for instance --report_to none).\n"
     ]
    },
    {
     "data": {
      "text/html": [
       "\n",
       "    <div>\n",
       "      \n",
       "      <progress value='17024' max='17024' style='width:300px; height:20px; vertical-align: middle;'></progress>\n",
       "      [17024/17024 8:49:54, Epoch 2/3]\n",
       "    </div>\n",
       "    <table border=\"1\" class=\"dataframe\">\n",
       "  <thead>\n",
       " <tr style=\"text-align: left;\">\n",
       "      <th>Epoch</th>\n",
       "      <th>Training Loss</th>\n",
       "      <th>Validation Loss</th>\n",
       "    </tr>\n",
       "  </thead>\n",
       "  <tbody>\n",
       "    <tr>\n",
       "      <td>1</td>\n",
       "      <td>0.049500</td>\n",
       "      <td>0.046352</td>\n",
       "    </tr>\n",
       "    <tr>\n",
       "      <td>2</td>\n",
       "      <td>0.027700</td>\n",
       "      <td>0.038779</td>\n",
       "    </tr>\n",
       "  </tbody>\n",
       "</table><p>"
      ],
      "text/plain": [
       "<IPython.core.display.HTML object>"
      ]
     },
     "metadata": {},
     "output_type": "display_data"
    },
    {
     "data": {
      "text/plain": [
       "TrainOutput(global_step=17024, training_loss=0.0507376146768885, metrics={'train_runtime': 31798.2087, 'train_samples_per_second': 34.263, 'train_steps_per_second': 0.535, 'total_flos': 1.443256152488878e+17, 'train_loss': 0.0507376146768885, 'epoch': 2.200051692943913})"
      ]
     },
     "execution_count": 69,
     "metadata": {},
     "output_type": "execute_result"
    }
   ],
   "source": [
    "model = DistilBertForSequenceClassification.from_pretrained('distilbert-base-multilingual-cased', num_labels=2)\n",
    "\n",
    "# Resize the model’s token embeddings to accommodate new tokens\n",
    "model.resize_token_embeddings(len(tokenizer))\n",
    "\n",
    "# Define training arguments with W&B disabled\n",
    "training_args = TrainingArguments(\n",
    "    output_dir='./results',\n",
    "    save_total_limit=3,\n",
    "    save_steps=1000,\n",
    "    evaluation_strategy='epoch',\n",
    "    learning_rate=2e-5,\n",
    "    per_device_train_batch_size=32,\n",
    "    per_device_eval_batch_size=32,\n",
    "    num_train_epochs=2.2,\n",
    "    weight_decay=0.01,\n",
    "    report_to=None,  # Disable W&B logging\n",
    "    no_cuda=False  # Ensures GPU is used if available\n",
    "    \n",
    ")\n",
    "\n",
    "# Create Trainer instance\n",
    "trainer = Trainer(\n",
    "    model=model,\n",
    "    args=training_args,\n",
    "    train_dataset=train_dataset,\n",
    "    eval_dataset=eval_dataset\n",
    ")\n",
    "\n",
    "# Train model\n",
    "trainer.train()"
   ]
  },
  {
   "cell_type": "code",
   "execution_count": 70,
   "id": "9f610fe1",
   "metadata": {
    "execution": {
     "iopub.execute_input": "2024-08-19T03:43:40.703408Z",
     "iopub.status.busy": "2024-08-19T03:43:40.703117Z",
     "iopub.status.idle": "2024-08-19T03:43:41.918542Z",
     "shell.execute_reply": "2024-08-19T03:43:41.917734Z"
    },
    "papermill": {
     "duration": 1.239214,
     "end_time": "2024-08-19T03:43:41.920901",
     "exception": false,
     "start_time": "2024-08-19T03:43:40.681687",
     "status": "completed"
    },
    "tags": []
   },
   "outputs": [],
   "source": [
    "# Оценка модели\n",
    "# eval_results = trainer.evaluate()\n",
    "\n",
    "# print(\"Evaluation results:\", eval_results)\n",
    "\n",
    "# Сохранение модели\n",
    "model.save_pretrained('./saved_model')"
   ]
  },
  {
   "cell_type": "code",
   "execution_count": 71,
   "id": "8951fc15",
   "metadata": {
    "execution": {
     "iopub.execute_input": "2024-08-19T03:43:41.964270Z",
     "iopub.status.busy": "2024-08-19T03:43:41.963930Z",
     "iopub.status.idle": "2024-08-19T03:44:11.577094Z",
     "shell.execute_reply": "2024-08-19T03:44:11.576170Z"
    },
    "papermill": {
     "duration": 29.637449,
     "end_time": "2024-08-19T03:44:11.579143",
     "exception": false,
     "start_time": "2024-08-19T03:43:41.941694",
     "status": "completed"
    },
    "tags": []
   },
   "outputs": [
    {
     "name": "stdout",
     "output_type": "stream",
     "text": [
      "  adding: saved_model/ (stored 0%)\r\n",
      "  adding: saved_model/config.json (deflated 46%)\r\n",
      "  adding: saved_model/model.safetensors (deflated 7%)\r\n"
     ]
    }
   ],
   "source": [
    "!zip saved_model.zip -r saved_model"
   ]
  }
 ],
 "metadata": {
  "kaggle": {
   "accelerator": "nvidiaTeslaT4",
   "dataSources": [
    {
     "datasetId": 5560308,
     "sourceId": 9197196,
     "sourceType": "datasetVersion"
    }
   ],
   "dockerImageVersionId": 30746,
   "isGpuEnabled": true,
   "isInternetEnabled": true,
   "language": "python",
   "sourceType": "notebook"
  },
  "kernelspec": {
   "display_name": "Python 3",
   "language": "python",
   "name": "python3"
  },
  "language_info": {
   "codemirror_mode": {
    "name": "ipython",
    "version": 3
   },
   "file_extension": ".py",
   "mimetype": "text/x-python",
   "name": "python",
   "nbconvert_exporter": "python",
   "pygments_lexer": "ipython3",
   "version": "3.10.13"
  },
  "papermill": {
   "default_parameters": {},
   "duration": 31868.527519,
   "end_time": "2024-08-19T03:44:14.699544",
   "environment_variables": {},
   "exception": null,
   "input_path": "__notebook__.ipynb",
   "output_path": "__notebook__.ipynb",
   "parameters": {},
   "start_time": "2024-08-18T18:53:06.172025",
   "version": "2.5.0"
  },
  "widgets": {
   "application/vnd.jupyter.widget-state+json": {
    "state": {
     "10a520abe57d43f7952969f575cb12b2": {
      "model_module": "@jupyter-widgets/controls",
      "model_module_version": "1.5.0",
      "model_name": "FloatProgressModel",
      "state": {
       "_dom_classes": [],
       "_model_module": "@jupyter-widgets/controls",
       "_model_module_version": "1.5.0",
       "_model_name": "FloatProgressModel",
       "_view_count": null,
       "_view_module": "@jupyter-widgets/controls",
       "_view_module_version": "1.5.0",
       "_view_name": "ProgressView",
       "bar_style": "success",
       "description": "",
       "description_tooltip": null,
       "layout": "IPY_MODEL_724ff7d9546e48ffae1ed13434a48b11",
       "max": 466.0,
       "min": 0.0,
       "orientation": "horizontal",
       "style": "IPY_MODEL_3e3d1cc27eb842efb6b9989e7b38f792",
       "value": 466.0
      }
     },
     "2ba4823d3a124fc486a81efb6e5c5dea": {
      "model_module": "@jupyter-widgets/base",
      "model_module_version": "1.2.0",
      "model_name": "LayoutModel",
      "state": {
       "_model_module": "@jupyter-widgets/base",
       "_model_module_version": "1.2.0",
       "_model_name": "LayoutModel",
       "_view_count": null,
       "_view_module": "@jupyter-widgets/base",
       "_view_module_version": "1.2.0",
       "_view_name": "LayoutView",
       "align_content": null,
       "align_items": null,
       "align_self": null,
       "border": null,
       "bottom": null,
       "display": null,
       "flex": null,
       "flex_flow": null,
       "grid_area": null,
       "grid_auto_columns": null,
       "grid_auto_flow": null,
       "grid_auto_rows": null,
       "grid_column": null,
       "grid_gap": null,
       "grid_row": null,
       "grid_template_areas": null,
       "grid_template_columns": null,
       "grid_template_rows": null,
       "height": null,
       "justify_content": null,
       "justify_items": null,
       "left": null,
       "margin": null,
       "max_height": null,
       "max_width": null,
       "min_height": null,
       "min_width": null,
       "object_fit": null,
       "object_position": null,
       "order": null,
       "overflow": null,
       "overflow_x": null,
       "overflow_y": null,
       "padding": null,
       "right": null,
       "top": null,
       "visibility": null,
       "width": null
      }
     },
     "3e3d1cc27eb842efb6b9989e7b38f792": {
      "model_module": "@jupyter-widgets/controls",
      "model_module_version": "1.5.0",
      "model_name": "ProgressStyleModel",
      "state": {
       "_model_module": "@jupyter-widgets/controls",
       "_model_module_version": "1.5.0",
       "_model_name": "ProgressStyleModel",
       "_view_count": null,
       "_view_module": "@jupyter-widgets/base",
       "_view_module_version": "1.2.0",
       "_view_name": "StyleView",
       "bar_color": null,
       "description_width": ""
      }
     },
     "4a6c9526144c457c9efca2b8d79d730f": {
      "model_module": "@jupyter-widgets/controls",
      "model_module_version": "1.5.0",
      "model_name": "ProgressStyleModel",
      "state": {
       "_model_module": "@jupyter-widgets/controls",
       "_model_module_version": "1.5.0",
       "_model_name": "ProgressStyleModel",
       "_view_count": null,
       "_view_module": "@jupyter-widgets/base",
       "_view_module_version": "1.2.0",
       "_view_name": "StyleView",
       "bar_color": null,
       "description_width": ""
      }
     },
     "54a155b5b6d046b9acda611ea2b00648": {
      "model_module": "@jupyter-widgets/controls",
      "model_module_version": "1.5.0",
      "model_name": "HTMLModel",
      "state": {
       "_dom_classes": [],
       "_model_module": "@jupyter-widgets/controls",
       "_model_module_version": "1.5.0",
       "_model_name": "HTMLModel",
       "_view_count": null,
       "_view_module": "@jupyter-widgets/controls",
       "_view_module_version": "1.5.0",
       "_view_name": "HTMLView",
       "description": "",
       "description_tooltip": null,
       "layout": "IPY_MODEL_c543fa7ee0e44d9a975df30795cab66a",
       "placeholder": "​",
       "style": "IPY_MODEL_c7df1841d7ce42db8249de5c0b7fc5ea",
       "value": " 542M/542M [00:02&lt;00:00, 193MB/s]"
      }
     },
     "7012948a1c9f46b4a20e735262ead5ba": {
      "model_module": "@jupyter-widgets/controls",
      "model_module_version": "1.5.0",
      "model_name": "DescriptionStyleModel",
      "state": {
       "_model_module": "@jupyter-widgets/controls",
       "_model_module_version": "1.5.0",
       "_model_name": "DescriptionStyleModel",
       "_view_count": null,
       "_view_module": "@jupyter-widgets/base",
       "_view_module_version": "1.2.0",
       "_view_name": "StyleView",
       "description_width": ""
      }
     },
     "724ff7d9546e48ffae1ed13434a48b11": {
      "model_module": "@jupyter-widgets/base",
      "model_module_version": "1.2.0",
      "model_name": "LayoutModel",
      "state": {
       "_model_module": "@jupyter-widgets/base",
       "_model_module_version": "1.2.0",
       "_model_name": "LayoutModel",
       "_view_count": null,
       "_view_module": "@jupyter-widgets/base",
       "_view_module_version": "1.2.0",
       "_view_name": "LayoutView",
       "align_content": null,
       "align_items": null,
       "align_self": null,
       "border": null,
       "bottom": null,
       "display": null,
       "flex": null,
       "flex_flow": null,
       "grid_area": null,
       "grid_auto_columns": null,
       "grid_auto_flow": null,
       "grid_auto_rows": null,
       "grid_column": null,
       "grid_gap": null,
       "grid_row": null,
       "grid_template_areas": null,
       "grid_template_columns": null,
       "grid_template_rows": null,
       "height": null,
       "justify_content": null,
       "justify_items": null,
       "left": null,
       "margin": null,
       "max_height": null,
       "max_width": null,
       "min_height": null,
       "min_width": null,
       "object_fit": null,
       "object_position": null,
       "order": null,
       "overflow": null,
       "overflow_x": null,
       "overflow_y": null,
       "padding": null,
       "right": null,
       "top": null,
       "visibility": null,
       "width": null
      }
     },
     "7414bde9f4d44e0fb9413499ab05fd4c": {
      "model_module": "@jupyter-widgets/base",
      "model_module_version": "1.2.0",
      "model_name": "LayoutModel",
      "state": {
       "_model_module": "@jupyter-widgets/base",
       "_model_module_version": "1.2.0",
       "_model_name": "LayoutModel",
       "_view_count": null,
       "_view_module": "@jupyter-widgets/base",
       "_view_module_version": "1.2.0",
       "_view_name": "LayoutView",
       "align_content": null,
       "align_items": null,
       "align_self": null,
       "border": null,
       "bottom": null,
       "display": null,
       "flex": null,
       "flex_flow": null,
       "grid_area": null,
       "grid_auto_columns": null,
       "grid_auto_flow": null,
       "grid_auto_rows": null,
       "grid_column": null,
       "grid_gap": null,
       "grid_row": null,
       "grid_template_areas": null,
       "grid_template_columns": null,
       "grid_template_rows": null,
       "height": null,
       "justify_content": null,
       "justify_items": null,
       "left": null,
       "margin": null,
       "max_height": null,
       "max_width": null,
       "min_height": null,
       "min_width": null,
       "object_fit": null,
       "object_position": null,
       "order": null,
       "overflow": null,
       "overflow_x": null,
       "overflow_y": null,
       "padding": null,
       "right": null,
       "top": null,
       "visibility": null,
       "width": null
      }
     },
     "82bed0bcefed4ff088ebbf9eb0048a84": {
      "model_module": "@jupyter-widgets/controls",
      "model_module_version": "1.5.0",
      "model_name": "HBoxModel",
      "state": {
       "_dom_classes": [],
       "_model_module": "@jupyter-widgets/controls",
       "_model_module_version": "1.5.0",
       "_model_name": "HBoxModel",
       "_view_count": null,
       "_view_module": "@jupyter-widgets/controls",
       "_view_module_version": "1.5.0",
       "_view_name": "HBoxView",
       "box_style": "",
       "children": [
        "IPY_MODEL_a5d83eb73a78415e9ccab417adc4af0a",
        "IPY_MODEL_10a520abe57d43f7952969f575cb12b2",
        "IPY_MODEL_df0277f79df0451db7dbc0fb298da496"
       ],
       "layout": "IPY_MODEL_2ba4823d3a124fc486a81efb6e5c5dea"
      }
     },
     "89d47d76c8ca4236be6038e94da07f47": {
      "model_module": "@jupyter-widgets/base",
      "model_module_version": "1.2.0",
      "model_name": "LayoutModel",
      "state": {
       "_model_module": "@jupyter-widgets/base",
       "_model_module_version": "1.2.0",
       "_model_name": "LayoutModel",
       "_view_count": null,
       "_view_module": "@jupyter-widgets/base",
       "_view_module_version": "1.2.0",
       "_view_name": "LayoutView",
       "align_content": null,
       "align_items": null,
       "align_self": null,
       "border": null,
       "bottom": null,
       "display": null,
       "flex": null,
       "flex_flow": null,
       "grid_area": null,
       "grid_auto_columns": null,
       "grid_auto_flow": null,
       "grid_auto_rows": null,
       "grid_column": null,
       "grid_gap": null,
       "grid_row": null,
       "grid_template_areas": null,
       "grid_template_columns": null,
       "grid_template_rows": null,
       "height": null,
       "justify_content": null,
       "justify_items": null,
       "left": null,
       "margin": null,
       "max_height": null,
       "max_width": null,
       "min_height": null,
       "min_width": null,
       "object_fit": null,
       "object_position": null,
       "order": null,
       "overflow": null,
       "overflow_x": null,
       "overflow_y": null,
       "padding": null,
       "right": null,
       "top": null,
       "visibility": null,
       "width": null
      }
     },
     "8fb37daba14c4a9681014151a11997ec": {
      "model_module": "@jupyter-widgets/base",
      "model_module_version": "1.2.0",
      "model_name": "LayoutModel",
      "state": {
       "_model_module": "@jupyter-widgets/base",
       "_model_module_version": "1.2.0",
       "_model_name": "LayoutModel",
       "_view_count": null,
       "_view_module": "@jupyter-widgets/base",
       "_view_module_version": "1.2.0",
       "_view_name": "LayoutView",
       "align_content": null,
       "align_items": null,
       "align_self": null,
       "border": null,
       "bottom": null,
       "display": null,
       "flex": null,
       "flex_flow": null,
       "grid_area": null,
       "grid_auto_columns": null,
       "grid_auto_flow": null,
       "grid_auto_rows": null,
       "grid_column": null,
       "grid_gap": null,
       "grid_row": null,
       "grid_template_areas": null,
       "grid_template_columns": null,
       "grid_template_rows": null,
       "height": null,
       "justify_content": null,
       "justify_items": null,
       "left": null,
       "margin": null,
       "max_height": null,
       "max_width": null,
       "min_height": null,
       "min_width": null,
       "object_fit": null,
       "object_position": null,
       "order": null,
       "overflow": null,
       "overflow_x": null,
       "overflow_y": null,
       "padding": null,
       "right": null,
       "top": null,
       "visibility": null,
       "width": null
      }
     },
     "9a3cc08f39ad4504985069ce162ecaf4": {
      "model_module": "@jupyter-widgets/controls",
      "model_module_version": "1.5.0",
      "model_name": "FloatProgressModel",
      "state": {
       "_dom_classes": [],
       "_model_module": "@jupyter-widgets/controls",
       "_model_module_version": "1.5.0",
       "_model_name": "FloatProgressModel",
       "_view_count": null,
       "_view_module": "@jupyter-widgets/controls",
       "_view_module_version": "1.5.0",
       "_view_name": "ProgressView",
       "bar_style": "success",
       "description": "",
       "description_tooltip": null,
       "layout": "IPY_MODEL_8fb37daba14c4a9681014151a11997ec",
       "max": 541795680.0,
       "min": 0.0,
       "orientation": "horizontal",
       "style": "IPY_MODEL_4a6c9526144c457c9efca2b8d79d730f",
       "value": 541795680.0
      }
     },
     "9d54bf708eca45c188eeb8c5ed23df8b": {
      "model_module": "@jupyter-widgets/controls",
      "model_module_version": "1.5.0",
      "model_name": "HBoxModel",
      "state": {
       "_dom_classes": [],
       "_model_module": "@jupyter-widgets/controls",
       "_model_module_version": "1.5.0",
       "_model_name": "HBoxModel",
       "_view_count": null,
       "_view_module": "@jupyter-widgets/controls",
       "_view_module_version": "1.5.0",
       "_view_name": "HBoxView",
       "box_style": "",
       "children": [
        "IPY_MODEL_e7c7b7c9c7f743eb9693bed64a7f406f",
        "IPY_MODEL_9a3cc08f39ad4504985069ce162ecaf4",
        "IPY_MODEL_54a155b5b6d046b9acda611ea2b00648"
       ],
       "layout": "IPY_MODEL_7414bde9f4d44e0fb9413499ab05fd4c"
      }
     },
     "a5d83eb73a78415e9ccab417adc4af0a": {
      "model_module": "@jupyter-widgets/controls",
      "model_module_version": "1.5.0",
      "model_name": "HTMLModel",
      "state": {
       "_dom_classes": [],
       "_model_module": "@jupyter-widgets/controls",
       "_model_module_version": "1.5.0",
       "_model_name": "HTMLModel",
       "_view_count": null,
       "_view_module": "@jupyter-widgets/controls",
       "_view_module_version": "1.5.0",
       "_view_name": "HTMLView",
       "description": "",
       "description_tooltip": null,
       "layout": "IPY_MODEL_89d47d76c8ca4236be6038e94da07f47",
       "placeholder": "​",
       "style": "IPY_MODEL_ab4973fa4a504c6da4aef12b3eadbf36",
       "value": "config.json: 100%"
      }
     },
     "ab4973fa4a504c6da4aef12b3eadbf36": {
      "model_module": "@jupyter-widgets/controls",
      "model_module_version": "1.5.0",
      "model_name": "DescriptionStyleModel",
      "state": {
       "_model_module": "@jupyter-widgets/controls",
       "_model_module_version": "1.5.0",
       "_model_name": "DescriptionStyleModel",
       "_view_count": null,
       "_view_module": "@jupyter-widgets/base",
       "_view_module_version": "1.2.0",
       "_view_name": "StyleView",
       "description_width": ""
      }
     },
     "ac099b70582446c8a70c29824a0353da": {
      "model_module": "@jupyter-widgets/controls",
      "model_module_version": "1.5.0",
      "model_name": "DescriptionStyleModel",
      "state": {
       "_model_module": "@jupyter-widgets/controls",
       "_model_module_version": "1.5.0",
       "_model_name": "DescriptionStyleModel",
       "_view_count": null,
       "_view_module": "@jupyter-widgets/base",
       "_view_module_version": "1.2.0",
       "_view_name": "StyleView",
       "description_width": ""
      }
     },
     "bd6fb4717b794e5da1454031e0044dd7": {
      "model_module": "@jupyter-widgets/base",
      "model_module_version": "1.2.0",
      "model_name": "LayoutModel",
      "state": {
       "_model_module": "@jupyter-widgets/base",
       "_model_module_version": "1.2.0",
       "_model_name": "LayoutModel",
       "_view_count": null,
       "_view_module": "@jupyter-widgets/base",
       "_view_module_version": "1.2.0",
       "_view_name": "LayoutView",
       "align_content": null,
       "align_items": null,
       "align_self": null,
       "border": null,
       "bottom": null,
       "display": null,
       "flex": null,
       "flex_flow": null,
       "grid_area": null,
       "grid_auto_columns": null,
       "grid_auto_flow": null,
       "grid_auto_rows": null,
       "grid_column": null,
       "grid_gap": null,
       "grid_row": null,
       "grid_template_areas": null,
       "grid_template_columns": null,
       "grid_template_rows": null,
       "height": null,
       "justify_content": null,
       "justify_items": null,
       "left": null,
       "margin": null,
       "max_height": null,
       "max_width": null,
       "min_height": null,
       "min_width": null,
       "object_fit": null,
       "object_position": null,
       "order": null,
       "overflow": null,
       "overflow_x": null,
       "overflow_y": null,
       "padding": null,
       "right": null,
       "top": null,
       "visibility": null,
       "width": null
      }
     },
     "c543fa7ee0e44d9a975df30795cab66a": {
      "model_module": "@jupyter-widgets/base",
      "model_module_version": "1.2.0",
      "model_name": "LayoutModel",
      "state": {
       "_model_module": "@jupyter-widgets/base",
       "_model_module_version": "1.2.0",
       "_model_name": "LayoutModel",
       "_view_count": null,
       "_view_module": "@jupyter-widgets/base",
       "_view_module_version": "1.2.0",
       "_view_name": "LayoutView",
       "align_content": null,
       "align_items": null,
       "align_self": null,
       "border": null,
       "bottom": null,
       "display": null,
       "flex": null,
       "flex_flow": null,
       "grid_area": null,
       "grid_auto_columns": null,
       "grid_auto_flow": null,
       "grid_auto_rows": null,
       "grid_column": null,
       "grid_gap": null,
       "grid_row": null,
       "grid_template_areas": null,
       "grid_template_columns": null,
       "grid_template_rows": null,
       "height": null,
       "justify_content": null,
       "justify_items": null,
       "left": null,
       "margin": null,
       "max_height": null,
       "max_width": null,
       "min_height": null,
       "min_width": null,
       "object_fit": null,
       "object_position": null,
       "order": null,
       "overflow": null,
       "overflow_x": null,
       "overflow_y": null,
       "padding": null,
       "right": null,
       "top": null,
       "visibility": null,
       "width": null
      }
     },
     "c7df1841d7ce42db8249de5c0b7fc5ea": {
      "model_module": "@jupyter-widgets/controls",
      "model_module_version": "1.5.0",
      "model_name": "DescriptionStyleModel",
      "state": {
       "_model_module": "@jupyter-widgets/controls",
       "_model_module_version": "1.5.0",
       "_model_name": "DescriptionStyleModel",
       "_view_count": null,
       "_view_module": "@jupyter-widgets/base",
       "_view_module_version": "1.2.0",
       "_view_name": "StyleView",
       "description_width": ""
      }
     },
     "ccdbfe6c69cd449fa93ac0607ea5fc4f": {
      "model_module": "@jupyter-widgets/base",
      "model_module_version": "1.2.0",
      "model_name": "LayoutModel",
      "state": {
       "_model_module": "@jupyter-widgets/base",
       "_model_module_version": "1.2.0",
       "_model_name": "LayoutModel",
       "_view_count": null,
       "_view_module": "@jupyter-widgets/base",
       "_view_module_version": "1.2.0",
       "_view_name": "LayoutView",
       "align_content": null,
       "align_items": null,
       "align_self": null,
       "border": null,
       "bottom": null,
       "display": null,
       "flex": null,
       "flex_flow": null,
       "grid_area": null,
       "grid_auto_columns": null,
       "grid_auto_flow": null,
       "grid_auto_rows": null,
       "grid_column": null,
       "grid_gap": null,
       "grid_row": null,
       "grid_template_areas": null,
       "grid_template_columns": null,
       "grid_template_rows": null,
       "height": null,
       "justify_content": null,
       "justify_items": null,
       "left": null,
       "margin": null,
       "max_height": null,
       "max_width": null,
       "min_height": null,
       "min_width": null,
       "object_fit": null,
       "object_position": null,
       "order": null,
       "overflow": null,
       "overflow_x": null,
       "overflow_y": null,
       "padding": null,
       "right": null,
       "top": null,
       "visibility": null,
       "width": null
      }
     },
     "df0277f79df0451db7dbc0fb298da496": {
      "model_module": "@jupyter-widgets/controls",
      "model_module_version": "1.5.0",
      "model_name": "HTMLModel",
      "state": {
       "_dom_classes": [],
       "_model_module": "@jupyter-widgets/controls",
       "_model_module_version": "1.5.0",
       "_model_name": "HTMLModel",
       "_view_count": null,
       "_view_module": "@jupyter-widgets/controls",
       "_view_module_version": "1.5.0",
       "_view_name": "HTMLView",
       "description": "",
       "description_tooltip": null,
       "layout": "IPY_MODEL_ccdbfe6c69cd449fa93ac0607ea5fc4f",
       "placeholder": "​",
       "style": "IPY_MODEL_ac099b70582446c8a70c29824a0353da",
       "value": " 466/466 [00:00&lt;00:00, 40.5kB/s]"
      }
     },
     "e7c7b7c9c7f743eb9693bed64a7f406f": {
      "model_module": "@jupyter-widgets/controls",
      "model_module_version": "1.5.0",
      "model_name": "HTMLModel",
      "state": {
       "_dom_classes": [],
       "_model_module": "@jupyter-widgets/controls",
       "_model_module_version": "1.5.0",
       "_model_name": "HTMLModel",
       "_view_count": null,
       "_view_module": "@jupyter-widgets/controls",
       "_view_module_version": "1.5.0",
       "_view_name": "HTMLView",
       "description": "",
       "description_tooltip": null,
       "layout": "IPY_MODEL_bd6fb4717b794e5da1454031e0044dd7",
       "placeholder": "​",
       "style": "IPY_MODEL_7012948a1c9f46b4a20e735262ead5ba",
       "value": "model.safetensors: 100%"
      }
     }
    },
    "version_major": 2,
    "version_minor": 0
   }
  }
 },
 "nbformat": 4,
 "nbformat_minor": 5
}
